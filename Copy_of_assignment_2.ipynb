{
  "nbformat": 4,
  "nbformat_minor": 0,
  "metadata": {
    "colab": {
      "provenance": [],
      "include_colab_link": true
    },
    "kernelspec": {
      "name": "python3",
      "display_name": "Python 3"
    },
    "language_info": {
      "name": "python"
    }
  },
  "cells": [
    {
      "cell_type": "markdown",
      "metadata": {
        "id": "view-in-github",
        "colab_type": "text"
      },
      "source": [
        "<a href=\"https://colab.research.google.com/github/BilalAbuZahra/computer-vision/blob/master/Copy_of_assignment_2.ipynb\" target=\"_parent\"><img src=\"https://colab.research.google.com/assets/colab-badge.svg\" alt=\"Open In Colab\"/></a>"
      ]
    },
    {
      "cell_type": "code",
      "execution_count": 1,
      "metadata": {
        "id": "VFGLFy3oBIE3",
        "outputId": "44537aa5-ddc2-46b8-938c-f3c72c6fc19b",
        "colab": {
          "base_uri": "https://localhost:8080/",
          "height": 345
        }
      },
      "outputs": [
        {
          "output_type": "error",
          "ename": "FileNotFoundError",
          "evalue": "ignored",
          "traceback": [
            "\u001b[0;31m---------------------------------------------------------------------------\u001b[0m",
            "\u001b[0;31mFileNotFoundError\u001b[0m                         Traceback (most recent call last)",
            "\u001b[0;32m<ipython-input-1-59bc5be9bff7>\u001b[0m in \u001b[0;36m<module>\u001b[0;34m\u001b[0m\n\u001b[1;32m      5\u001b[0m \u001b[0;32mimport\u001b[0m \u001b[0mseaborn\u001b[0m \u001b[0;32mas\u001b[0m \u001b[0msns\u001b[0m\u001b[0;34m\u001b[0m\u001b[0;34m\u001b[0m\u001b[0m\n\u001b[1;32m      6\u001b[0m \u001b[0;31m# note that ';' is used as the separator between columns (features)\u001b[0m\u001b[0;34m\u001b[0m\u001b[0;34m\u001b[0m\u001b[0;34m\u001b[0m\u001b[0m\n\u001b[0;32m----> 7\u001b[0;31m \u001b[0mdf\u001b[0m \u001b[0;34m=\u001b[0m \u001b[0mpd\u001b[0m\u001b[0;34m.\u001b[0m\u001b[0mread_csv\u001b[0m\u001b[0;34m(\u001b[0m\u001b[0;34m'../content/bank-full.csv'\u001b[0m\u001b[0;34m,\u001b[0m\u001b[0msep\u001b[0m\u001b[0;34m=\u001b[0m\u001b[0;34m';'\u001b[0m\u001b[0;34m)\u001b[0m\u001b[0;34m\u001b[0m\u001b[0;34m\u001b[0m\u001b[0m\n\u001b[0m",
            "\u001b[0;32m/usr/local/lib/python3.8/dist-packages/pandas/util/_decorators.py\u001b[0m in \u001b[0;36mwrapper\u001b[0;34m(*args, **kwargs)\u001b[0m\n\u001b[1;32m    309\u001b[0m                     \u001b[0mstacklevel\u001b[0m\u001b[0;34m=\u001b[0m\u001b[0mstacklevel\u001b[0m\u001b[0;34m,\u001b[0m\u001b[0;34m\u001b[0m\u001b[0;34m\u001b[0m\u001b[0m\n\u001b[1;32m    310\u001b[0m                 )\n\u001b[0;32m--> 311\u001b[0;31m             \u001b[0;32mreturn\u001b[0m \u001b[0mfunc\u001b[0m\u001b[0;34m(\u001b[0m\u001b[0;34m*\u001b[0m\u001b[0margs\u001b[0m\u001b[0;34m,\u001b[0m \u001b[0;34m**\u001b[0m\u001b[0mkwargs\u001b[0m\u001b[0;34m)\u001b[0m\u001b[0;34m\u001b[0m\u001b[0;34m\u001b[0m\u001b[0m\n\u001b[0m\u001b[1;32m    312\u001b[0m \u001b[0;34m\u001b[0m\u001b[0m\n\u001b[1;32m    313\u001b[0m         \u001b[0;32mreturn\u001b[0m \u001b[0mwrapper\u001b[0m\u001b[0;34m\u001b[0m\u001b[0;34m\u001b[0m\u001b[0m\n",
            "\u001b[0;32m/usr/local/lib/python3.8/dist-packages/pandas/io/parsers/readers.py\u001b[0m in \u001b[0;36mread_csv\u001b[0;34m(filepath_or_buffer, sep, delimiter, header, names, index_col, usecols, squeeze, prefix, mangle_dupe_cols, dtype, engine, converters, true_values, false_values, skipinitialspace, skiprows, skipfooter, nrows, na_values, keep_default_na, na_filter, verbose, skip_blank_lines, parse_dates, infer_datetime_format, keep_date_col, date_parser, dayfirst, cache_dates, iterator, chunksize, compression, thousands, decimal, lineterminator, quotechar, quoting, doublequote, escapechar, comment, encoding, encoding_errors, dialect, error_bad_lines, warn_bad_lines, on_bad_lines, delim_whitespace, low_memory, memory_map, float_precision, storage_options)\u001b[0m\n\u001b[1;32m    584\u001b[0m     \u001b[0mkwds\u001b[0m\u001b[0;34m.\u001b[0m\u001b[0mupdate\u001b[0m\u001b[0;34m(\u001b[0m\u001b[0mkwds_defaults\u001b[0m\u001b[0;34m)\u001b[0m\u001b[0;34m\u001b[0m\u001b[0;34m\u001b[0m\u001b[0m\n\u001b[1;32m    585\u001b[0m \u001b[0;34m\u001b[0m\u001b[0m\n\u001b[0;32m--> 586\u001b[0;31m     \u001b[0;32mreturn\u001b[0m \u001b[0m_read\u001b[0m\u001b[0;34m(\u001b[0m\u001b[0mfilepath_or_buffer\u001b[0m\u001b[0;34m,\u001b[0m \u001b[0mkwds\u001b[0m\u001b[0;34m)\u001b[0m\u001b[0;34m\u001b[0m\u001b[0;34m\u001b[0m\u001b[0m\n\u001b[0m\u001b[1;32m    587\u001b[0m \u001b[0;34m\u001b[0m\u001b[0m\n\u001b[1;32m    588\u001b[0m \u001b[0;34m\u001b[0m\u001b[0m\n",
            "\u001b[0;32m/usr/local/lib/python3.8/dist-packages/pandas/io/parsers/readers.py\u001b[0m in \u001b[0;36m_read\u001b[0;34m(filepath_or_buffer, kwds)\u001b[0m\n\u001b[1;32m    480\u001b[0m \u001b[0;34m\u001b[0m\u001b[0m\n\u001b[1;32m    481\u001b[0m     \u001b[0;31m# Create the parser.\u001b[0m\u001b[0;34m\u001b[0m\u001b[0;34m\u001b[0m\u001b[0;34m\u001b[0m\u001b[0m\n\u001b[0;32m--> 482\u001b[0;31m     \u001b[0mparser\u001b[0m \u001b[0;34m=\u001b[0m \u001b[0mTextFileReader\u001b[0m\u001b[0;34m(\u001b[0m\u001b[0mfilepath_or_buffer\u001b[0m\u001b[0;34m,\u001b[0m \u001b[0;34m**\u001b[0m\u001b[0mkwds\u001b[0m\u001b[0;34m)\u001b[0m\u001b[0;34m\u001b[0m\u001b[0;34m\u001b[0m\u001b[0m\n\u001b[0m\u001b[1;32m    483\u001b[0m \u001b[0;34m\u001b[0m\u001b[0m\n\u001b[1;32m    484\u001b[0m     \u001b[0;32mif\u001b[0m \u001b[0mchunksize\u001b[0m \u001b[0;32mor\u001b[0m \u001b[0miterator\u001b[0m\u001b[0;34m:\u001b[0m\u001b[0;34m\u001b[0m\u001b[0;34m\u001b[0m\u001b[0m\n",
            "\u001b[0;32m/usr/local/lib/python3.8/dist-packages/pandas/io/parsers/readers.py\u001b[0m in \u001b[0;36m__init__\u001b[0;34m(self, f, engine, **kwds)\u001b[0m\n\u001b[1;32m    809\u001b[0m             \u001b[0mself\u001b[0m\u001b[0;34m.\u001b[0m\u001b[0moptions\u001b[0m\u001b[0;34m[\u001b[0m\u001b[0;34m\"has_index_names\"\u001b[0m\u001b[0;34m]\u001b[0m \u001b[0;34m=\u001b[0m \u001b[0mkwds\u001b[0m\u001b[0;34m[\u001b[0m\u001b[0;34m\"has_index_names\"\u001b[0m\u001b[0;34m]\u001b[0m\u001b[0;34m\u001b[0m\u001b[0;34m\u001b[0m\u001b[0m\n\u001b[1;32m    810\u001b[0m \u001b[0;34m\u001b[0m\u001b[0m\n\u001b[0;32m--> 811\u001b[0;31m         \u001b[0mself\u001b[0m\u001b[0;34m.\u001b[0m\u001b[0m_engine\u001b[0m \u001b[0;34m=\u001b[0m \u001b[0mself\u001b[0m\u001b[0;34m.\u001b[0m\u001b[0m_make_engine\u001b[0m\u001b[0;34m(\u001b[0m\u001b[0mself\u001b[0m\u001b[0;34m.\u001b[0m\u001b[0mengine\u001b[0m\u001b[0;34m)\u001b[0m\u001b[0;34m\u001b[0m\u001b[0;34m\u001b[0m\u001b[0m\n\u001b[0m\u001b[1;32m    812\u001b[0m \u001b[0;34m\u001b[0m\u001b[0m\n\u001b[1;32m    813\u001b[0m     \u001b[0;32mdef\u001b[0m \u001b[0mclose\u001b[0m\u001b[0;34m(\u001b[0m\u001b[0mself\u001b[0m\u001b[0;34m)\u001b[0m\u001b[0;34m:\u001b[0m\u001b[0;34m\u001b[0m\u001b[0;34m\u001b[0m\u001b[0m\n",
            "\u001b[0;32m/usr/local/lib/python3.8/dist-packages/pandas/io/parsers/readers.py\u001b[0m in \u001b[0;36m_make_engine\u001b[0;34m(self, engine)\u001b[0m\n\u001b[1;32m   1038\u001b[0m             )\n\u001b[1;32m   1039\u001b[0m         \u001b[0;31m# error: Too many arguments for \"ParserBase\"\u001b[0m\u001b[0;34m\u001b[0m\u001b[0;34m\u001b[0m\u001b[0;34m\u001b[0m\u001b[0m\n\u001b[0;32m-> 1040\u001b[0;31m         \u001b[0;32mreturn\u001b[0m \u001b[0mmapping\u001b[0m\u001b[0;34m[\u001b[0m\u001b[0mengine\u001b[0m\u001b[0;34m]\u001b[0m\u001b[0;34m(\u001b[0m\u001b[0mself\u001b[0m\u001b[0;34m.\u001b[0m\u001b[0mf\u001b[0m\u001b[0;34m,\u001b[0m \u001b[0;34m**\u001b[0m\u001b[0mself\u001b[0m\u001b[0;34m.\u001b[0m\u001b[0moptions\u001b[0m\u001b[0;34m)\u001b[0m  \u001b[0;31m# type: ignore[call-arg]\u001b[0m\u001b[0;34m\u001b[0m\u001b[0;34m\u001b[0m\u001b[0m\n\u001b[0m\u001b[1;32m   1041\u001b[0m \u001b[0;34m\u001b[0m\u001b[0m\n\u001b[1;32m   1042\u001b[0m     \u001b[0;32mdef\u001b[0m \u001b[0m_failover_to_python\u001b[0m\u001b[0;34m(\u001b[0m\u001b[0mself\u001b[0m\u001b[0;34m)\u001b[0m\u001b[0;34m:\u001b[0m\u001b[0;34m\u001b[0m\u001b[0;34m\u001b[0m\u001b[0m\n",
            "\u001b[0;32m/usr/local/lib/python3.8/dist-packages/pandas/io/parsers/c_parser_wrapper.py\u001b[0m in \u001b[0;36m__init__\u001b[0;34m(self, src, **kwds)\u001b[0m\n\u001b[1;32m     49\u001b[0m \u001b[0;34m\u001b[0m\u001b[0m\n\u001b[1;32m     50\u001b[0m         \u001b[0;31m# open handles\u001b[0m\u001b[0;34m\u001b[0m\u001b[0;34m\u001b[0m\u001b[0;34m\u001b[0m\u001b[0m\n\u001b[0;32m---> 51\u001b[0;31m         \u001b[0mself\u001b[0m\u001b[0;34m.\u001b[0m\u001b[0m_open_handles\u001b[0m\u001b[0;34m(\u001b[0m\u001b[0msrc\u001b[0m\u001b[0;34m,\u001b[0m \u001b[0mkwds\u001b[0m\u001b[0;34m)\u001b[0m\u001b[0;34m\u001b[0m\u001b[0;34m\u001b[0m\u001b[0m\n\u001b[0m\u001b[1;32m     52\u001b[0m         \u001b[0;32massert\u001b[0m \u001b[0mself\u001b[0m\u001b[0;34m.\u001b[0m\u001b[0mhandles\u001b[0m \u001b[0;32mis\u001b[0m \u001b[0;32mnot\u001b[0m \u001b[0;32mNone\u001b[0m\u001b[0;34m\u001b[0m\u001b[0;34m\u001b[0m\u001b[0m\n\u001b[1;32m     53\u001b[0m \u001b[0;34m\u001b[0m\u001b[0m\n",
            "\u001b[0;32m/usr/local/lib/python3.8/dist-packages/pandas/io/parsers/base_parser.py\u001b[0m in \u001b[0;36m_open_handles\u001b[0;34m(self, src, kwds)\u001b[0m\n\u001b[1;32m    220\u001b[0m         \u001b[0mLet\u001b[0m \u001b[0mthe\u001b[0m \u001b[0mreaders\u001b[0m \u001b[0mopen\u001b[0m \u001b[0mIOHandles\u001b[0m \u001b[0mafter\u001b[0m \u001b[0mthey\u001b[0m \u001b[0mare\u001b[0m \u001b[0mdone\u001b[0m \u001b[0;32mwith\u001b[0m \u001b[0mtheir\u001b[0m \u001b[0mpotential\u001b[0m \u001b[0mraises\u001b[0m\u001b[0;34m.\u001b[0m\u001b[0;34m\u001b[0m\u001b[0;34m\u001b[0m\u001b[0m\n\u001b[1;32m    221\u001b[0m         \"\"\"\n\u001b[0;32m--> 222\u001b[0;31m         self.handles = get_handle(\n\u001b[0m\u001b[1;32m    223\u001b[0m             \u001b[0msrc\u001b[0m\u001b[0;34m,\u001b[0m\u001b[0;34m\u001b[0m\u001b[0;34m\u001b[0m\u001b[0m\n\u001b[1;32m    224\u001b[0m             \u001b[0;34m\"r\"\u001b[0m\u001b[0;34m,\u001b[0m\u001b[0;34m\u001b[0m\u001b[0;34m\u001b[0m\u001b[0m\n",
            "\u001b[0;32m/usr/local/lib/python3.8/dist-packages/pandas/io/common.py\u001b[0m in \u001b[0;36mget_handle\u001b[0;34m(path_or_buf, mode, encoding, compression, memory_map, is_text, errors, storage_options)\u001b[0m\n\u001b[1;32m    700\u001b[0m         \u001b[0;32mif\u001b[0m \u001b[0mioargs\u001b[0m\u001b[0;34m.\u001b[0m\u001b[0mencoding\u001b[0m \u001b[0;32mand\u001b[0m \u001b[0;34m\"b\"\u001b[0m \u001b[0;32mnot\u001b[0m \u001b[0;32min\u001b[0m \u001b[0mioargs\u001b[0m\u001b[0;34m.\u001b[0m\u001b[0mmode\u001b[0m\u001b[0;34m:\u001b[0m\u001b[0;34m\u001b[0m\u001b[0;34m\u001b[0m\u001b[0m\n\u001b[1;32m    701\u001b[0m             \u001b[0;31m# Encoding\u001b[0m\u001b[0;34m\u001b[0m\u001b[0;34m\u001b[0m\u001b[0;34m\u001b[0m\u001b[0m\n\u001b[0;32m--> 702\u001b[0;31m             handle = open(\n\u001b[0m\u001b[1;32m    703\u001b[0m                 \u001b[0mhandle\u001b[0m\u001b[0;34m,\u001b[0m\u001b[0;34m\u001b[0m\u001b[0;34m\u001b[0m\u001b[0m\n\u001b[1;32m    704\u001b[0m                 \u001b[0mioargs\u001b[0m\u001b[0;34m.\u001b[0m\u001b[0mmode\u001b[0m\u001b[0;34m,\u001b[0m\u001b[0;34m\u001b[0m\u001b[0;34m\u001b[0m\u001b[0m\n",
            "\u001b[0;31mFileNotFoundError\u001b[0m: [Errno 2] No such file or directory: '../content/bank-full.csv'"
          ]
        }
      ],
      "source": [
        "import pandas as pd\n",
        "import numpy as np\n",
        "# for plottng\n",
        "import matplotlib.pyplot as plt\n",
        "import seaborn as sns\n",
        "# note that ';' is used as the separator between columns (features)\n",
        "df = pd.read_csv('../content/bank-full.csv',sep=';')"
      ]
    },
    {
      "cell_type": "code",
      "source": [
        "df[['age','job','education','y']].head()"
      ],
      "metadata": {
        "id": "HiR4NOlNCDxO"
      },
      "execution_count": null,
      "outputs": []
    },
    {
      "cell_type": "code",
      "source": [
        "print(f'The dataset has {df.shape[0]} rows, and {df.shape[1]} columns')"
      ],
      "metadata": {
        "id": "cNyvcO_QCpPY"
      },
      "execution_count": null,
      "outputs": []
    },
    {
      "cell_type": "code",
      "source": [
        "df.info()\n"
      ],
      "metadata": {
        "id": "x8rA-izyCsAA"
      },
      "execution_count": null,
      "outputs": []
    },
    {
      "cell_type": "code",
      "source": [
        "df['job'].value_counts()"
      ],
      "metadata": {
        "id": "y5zf1Gn6CwUW"
      },
      "execution_count": null,
      "outputs": []
    },
    {
      "cell_type": "code",
      "source": [
        "df.describe()\n"
      ],
      "metadata": {
        "id": "pGsV8-nHCy_A"
      },
      "execution_count": null,
      "outputs": []
    },
    {
      "cell_type": "code",
      "source": [
        "numerical_vals = ['age','balance','day','duration','campaign','pdays','previous']"
      ],
      "metadata": {
        "id": "sG-MLNZqC4hk"
      },
      "execution_count": null,
      "outputs": []
    },
    {
      "cell_type": "code",
      "source": [
        "df[numerical_vals].hist(bins=30,figsize=(15,10))\n",
        "plt.show()"
      ],
      "metadata": {
        "id": "fGnHLKJxC7Qi"
      },
      "execution_count": null,
      "outputs": []
    },
    {
      "cell_type": "code",
      "source": [
        "sns.set_style(style=\"darkgrid\")\n",
        "\n",
        "sns.distplot(df['age'], hist=True, kde=True,\n",
        "      bins=int(180/5), color = 'blue',\n",
        "      hist_kws={'edgecolor':'black'},\n",
        "      kde_kws={'linewidth': 1})\n",
        "plt.show()"
      ],
      "metadata": {
        "id": "PbuPLFGiC-Ea"
      },
      "execution_count": null,
      "outputs": []
    },
    {
      "cell_type": "code",
      "source": [
        "sns.distplot(df['duration'], hist=True, kde=True,\n",
        "      bins=int(180/5), color = 'blue',\n",
        "      hist_kws={'edgecolor':'black'},\n",
        "      kde_kws={'linewidth': 1})\n",
        "plt.show()"
      ],
      "metadata": {
        "id": "6kXLWHIGDDAc"
      },
      "execution_count": null,
      "outputs": []
    },
    {
      "cell_type": "code",
      "source": [
        "sns.catplot(x=\"y\", hue=\"y\",\n",
        "        data=df, kind=\"count\",\n",
        "        height=4, aspect=.7)\n",
        "plt.show()"
      ],
      "metadata": {
        "id": "Lt6AvNJ1DRSm"
      },
      "execution_count": null,
      "outputs": []
    },
    {
      "cell_type": "code",
      "source": [
        "# number of records with 'yes' label\n",
        "n_yes= df[df.y=='yes'].shape[0]\n",
        "# number of records with 'non' label\n",
        "n_no = df[df.y=='no'].shape[0]\n",
        "# print percentage of both examples\n",
        "print(f'There is {n_yes} examples with yes label, which is {round(n_yes/df.shape[0],2)*100}%')\n",
        "print(f'There is {n_no} examples with no label, which is {round(n_no/df.shape[0],2)*100}%')\n"
      ],
      "metadata": {
        "id": "qL9byc8TDVJS"
      },
      "execution_count": null,
      "outputs": []
    },
    {
      "cell_type": "code",
      "source": [
        "sns.catplot(x=\"y\", hue=\"y\",col='education',\n",
        "        data=df, kind=\"count\",\n",
        "        height=4, aspect=.7)\n",
        "plt.show()"
      ],
      "metadata": {
        "id": "HWliRPNXDcb8"
      },
      "execution_count": null,
      "outputs": []
    },
    {
      "cell_type": "code",
      "source": [
        "sns.catplot(x=\"y\", hue=\"y\",col='default',\n",
        "        data=df, kind=\"count\",\n",
        "        height=4, aspect=.7)\n",
        "plt.show()"
      ],
      "metadata": {
        "id": "Iw-zPNehDgrG"
      },
      "execution_count": null,
      "outputs": []
    },
    {
      "cell_type": "code",
      "source": [
        "sns.catplot(x=\"y\", hue=\"y\",col='contact',\n",
        "        data=df, kind=\"count\",\n",
        "        height=4, aspect=.7)\n",
        "plt.show()"
      ],
      "metadata": {
        "id": "-FY5AfiDDkNn"
      },
      "execution_count": null,
      "outputs": []
    },
    {
      "cell_type": "code",
      "source": [
        "sns.boxplot(x=\"y\", y=\"age\", data=df)\n",
        "plt.show()"
      ],
      "metadata": {
        "id": "QfdlMtT8DnQP"
      },
      "execution_count": null,
      "outputs": []
    },
    {
      "cell_type": "code",
      "source": [
        "corr_mat= df.corr()\n",
        "corr_mat"
      ],
      "metadata": {
        "id": "3AdSswYyDo9n"
      },
      "execution_count": null,
      "outputs": []
    },
    {
      "cell_type": "code",
      "source": [
        "corr_mat['age'].sort_values(ascending=False)"
      ],
      "metadata": {
        "id": "vUu6CTz5DqyC"
      },
      "execution_count": null,
      "outputs": []
    },
    {
      "cell_type": "code",
      "source": [
        "sns.pairplot(df[numerical_vals[:4]])\n",
        "plt.show()"
      ],
      "metadata": {
        "id": "HMhk8VziDtGU"
      },
      "execution_count": null,
      "outputs": []
    },
    {
      "cell_type": "code",
      "source": [
        "# first extract the categorical variables\n",
        "cat_variables = set(df.columns)-set(numerical_vals)\n",
        "# print the unique values for each cat variable\n",
        "for i in cat_variables:\n",
        "  print('Feature [',i, '] has unique values:',df[i].unique())"
      ],
      "metadata": {
        "id": "j-1mDjOtDvrm"
      },
      "execution_count": null,
      "outputs": []
    },
    {
      "cell_type": "code",
      "source": [
        "# store all rows and columns apart from last column(label) in X\n",
        "X = df.iloc[:,:(df.shape[1]-1)]\n",
        "y = df['y']\n"
      ],
      "metadata": {
        "id": "JtO1E6ZvDzAY"
      },
      "execution_count": null,
      "outputs": []
    },
    {
      "cell_type": "code",
      "source": [
        "from sklearn.model_selection import train_test_split\n",
        "X_train, X_test, y_train, y_test = train_test_split(X,y, test_size=.20,random_state=15)"
      ],
      "metadata": {
        "id": "2E5osaD2D0qF"
      },
      "execution_count": null,
      "outputs": []
    },
    {
      "cell_type": "code",
      "source": [
        "# stratify sampling on the y attribute\n",
        "from sklearn.model_selection import StratifiedShuffleSplit\n",
        "split = StratifiedShuffleSplit(n_splits=1, test_size=.20,random_state=15)\n",
        "for train_index, test_index in split.split(df,df['y']):\n",
        "  train_set = df.loc[train_index]\n",
        "  test_set = df.loc[test_index]\n"
      ],
      "metadata": {
        "id": "_aLPEhUFD5kj"
      },
      "execution_count": null,
      "outputs": []
    },
    {
      "cell_type": "code",
      "source": [
        "y_train.value_counts(normalize=True)\n"
      ],
      "metadata": {
        "id": "FSSt_nTJD9JO"
      },
      "execution_count": null,
      "outputs": []
    },
    {
      "cell_type": "code",
      "source": [
        "y_test.value_counts(normalize=True)"
      ],
      "metadata": {
        "id": "C5R3_7N1D-wB"
      },
      "execution_count": null,
      "outputs": []
    },
    {
      "cell_type": "code",
      "source": [
        "df.columns"
      ],
      "metadata": {
        "id": "nj7vrI-IEAKz"
      },
      "execution_count": null,
      "outputs": []
    },
    {
      "cell_type": "code",
      "source": [
        "cat_variables"
      ],
      "metadata": {
        "id": "erw68i70EEA4"
      },
      "execution_count": null,
      "outputs": []
    },
    {
      "cell_type": "code",
      "source": [
        "for i in cat_variables:\n",
        "  print('Feature [',i, '] has unique values:',df[i].unique())\n"
      ],
      "metadata": {
        "id": "h6x4ffs1EGOa"
      },
      "execution_count": null,
      "outputs": []
    },
    {
      "cell_type": "code",
      "source": [
        "from sklearn.preprocessing import OneHotEncoder\n",
        "cat_encoder = OneHotEncoder()# instantiate a class\n",
        "# code the feature called default which takes yes, no value\n",
        "default_cat = df[['default']]\n",
        "# encode the feature using one hot\n",
        "default_one_hot = cat_encoder.fit_transform(default_cat)\n",
        "default_one_hot\n"
      ],
      "metadata": {
        "id": "rsFy2VeZEXwf"
      },
      "execution_count": null,
      "outputs": []
    },
    {
      "cell_type": "code",
      "source": [
        "default_one_hot.toarray()"
      ],
      "metadata": {
        "id": "hTxCnwAfEaRA"
      },
      "execution_count": null,
      "outputs": []
    },
    {
      "cell_type": "code",
      "source": [
        "cat_encoder.categories_\n"
      ],
      "metadata": {
        "id": "MfvlW4TXEhWB"
      },
      "execution_count": null,
      "outputs": []
    },
    {
      "cell_type": "code",
      "source": [
        "df_encoded = pd.get_dummies(df, columns=['contact','default','job','education','housing','loan','marital','month','poutcome'])\n",
        "\n"
      ],
      "metadata": {
        "id": "UuFw9bINEj0f"
      },
      "execution_count": null,
      "outputs": []
    },
    {
      "cell_type": "code",
      "source": [
        "df_encoded.iloc[:5,-4:]"
      ],
      "metadata": {
        "id": "tmJvXqodGY6m"
      },
      "execution_count": null,
      "outputs": []
    },
    {
      "cell_type": "code",
      "source": [
        "def encode_variables():\n",
        "# encode X_train\n",
        "    X_train_e = pd.get_dummies(X_train, columns=[\n",
        "        'contact','default','job','education',\n",
        "        'housing','loan','marital',\n",
        "        'month','poutcome'\n",
        "    ])\n",
        "# encode Y_train\n",
        "    X_test_e = pd.get_dummies(X_test, columns=[\n",
        "    'contact','default','job','education',\n",
        "    'housing','loan','marital',\n",
        "    'month','poutcome'\n",
        "    ])\n",
        "# encode class labels\n",
        "    y_train.replace('no',0,inplace=True)\n",
        "    y_train.replace('yes',1,inplace=True)\n",
        "    y_test.replace('no',0,inplace=True)\n",
        "    y_test.replace('yes',1,inplace=True)\n",
        "    return X_train_e, X_test_e\n",
        "# now call the function above to encode all categorical variables including␣labels\n",
        "X_train, X_test = encode_variables()\n"
      ],
      "metadata": {
        "id": "AcHDfV3qGc3X"
      },
      "execution_count": null,
      "outputs": []
    },
    {
      "cell_type": "code",
      "source": [
        "X_train.info()\n"
      ],
      "metadata": {
        "id": "93pJuedUG5Gd"
      },
      "execution_count": null,
      "outputs": []
    },
    {
      "cell_type": "code",
      "source": [
        "small_df = df[['age','balance','previous']]\n",
        "small_df.head()"
      ],
      "metadata": {
        "id": "XG2wbqSCG8PD"
      },
      "execution_count": null,
      "outputs": []
    },
    {
      "cell_type": "code",
      "source": [
        "def normalise(x):\n",
        "    return (x -min(x))/(max(x)-min(x))\n",
        "small_df_n = small_df.copy(deep=True)\n",
        "# scall features in the small_df_n\n",
        "small_df_n[small_df_n.columns]=small_df_n[small_df_n.columns].apply(lambda x:normalise(x)).copy(deep=True)"
      ],
      "metadata": {
        "id": "tK2KhUUzG-t1"
      },
      "execution_count": null,
      "outputs": []
    },
    {
      "cell_type": "code",
      "source": [
        "small_df_n.head()"
      ],
      "metadata": {
        "id": "nsR1x9kCHKxQ"
      },
      "execution_count": null,
      "outputs": []
    },
    {
      "cell_type": "code",
      "source": [
        "small_df_n.describe()"
      ],
      "metadata": {
        "id": "DUZ5D29AHMer"
      },
      "execution_count": null,
      "outputs": []
    },
    {
      "cell_type": "code",
      "source": [
        "from sklearn import preprocessing\n",
        "x = small_df.values #returns a numpy array\n",
        "normaliser = preprocessing.MinMaxScaler()\n",
        "x_scaled = normaliser.fit_transform(x)\n",
        "small_df_n1 = pd.DataFrame(x_scaled)"
      ],
      "metadata": {
        "id": "7Hek_jrNHN_C"
      },
      "execution_count": null,
      "outputs": []
    },
    {
      "cell_type": "code",
      "source": [
        "small_df_n1.describe()\n"
      ],
      "metadata": {
        "id": "nk03ejeDHPud"
      },
      "execution_count": null,
      "outputs": []
    },
    {
      "cell_type": "code",
      "source": [
        "normalised_df=(small_df-small_df.mean())/small_df.std()"
      ],
      "metadata": {
        "id": "N9ey9es0HTsb"
      },
      "execution_count": null,
      "outputs": []
    },
    {
      "cell_type": "code",
      "source": [
        "from sklearn.preprocessing import StandardScaler\n",
        "scaler = StandardScaler()\n",
        "# transform data\n",
        "scaled = scaler.fit_transform(X_train)"
      ],
      "metadata": {
        "id": "3KN_IVDVHXzn"
      },
      "execution_count": null,
      "outputs": []
    },
    {
      "cell_type": "code",
      "source": [
        "normalised_df.describe()"
      ],
      "metadata": {
        "id": "zquAuVCfHVDn"
      },
      "execution_count": null,
      "outputs": []
    },
    {
      "cell_type": "code",
      "source": [
        "X_train_s = pd.DataFrame(scaled, columns=X_train.columns)"
      ],
      "metadata": {
        "id": "v5KIeUNAHbLo"
      },
      "execution_count": null,
      "outputs": []
    },
    {
      "cell_type": "code",
      "source": [
        "scaler = StandardScaler()\n",
        "scaled = scaler.fit_transform(X_test)\n"
      ],
      "metadata": {
        "id": "kVpqU5FdHc47"
      },
      "execution_count": null,
      "outputs": []
    },
    {
      "cell_type": "code",
      "source": [
        "X_test_s = pd.DataFrame(scaled, columns=X_test.columns)"
      ],
      "metadata": {
        "id": "I_w7jKDeHf3X"
      },
      "execution_count": null,
      "outputs": []
    },
    {
      "cell_type": "code",
      "source": [
        "from sklearn.linear_model import LogisticRegression\n",
        "# create and train the model\n",
        "# notice the class_weight parameter\n",
        "ml_reg = LogisticRegression(solver='lbfgs',class_weight='balanced',max_iter=4000)\n",
        "ml_reg.fit(X_train_s,y_train)\n"
      ],
      "metadata": {
        "id": "wtRvm-4fHiMr"
      },
      "execution_count": null,
      "outputs": []
    },
    {
      "cell_type": "code",
      "source": [
        "y_preds = ml_reg.predict(X_test_s)\n"
      ],
      "metadata": {
        "id": "eRUwuy3KHj90"
      },
      "execution_count": null,
      "outputs": []
    },
    {
      "cell_type": "code",
      "source": [
        "from sklearn.metrics import accuracy_score\n",
        "print ('Accuracy is ',accuracy_score(y_test,y_preds))"
      ],
      "metadata": {
        "id": "eiptHPoyHl0W"
      },
      "execution_count": null,
      "outputs": []
    },
    {
      "cell_type": "code",
      "source": [
        "from sklearn.metrics import classification_report\n",
        "print(classification_report(y_test,y_preds))\n"
      ],
      "metadata": {
        "id": "opDeuJ2oHoLL"
      },
      "execution_count": null,
      "outputs": []
    },
    {
      "cell_type": "code",
      "source": [
        "dict_df = {\n",
        "  'Actual':y_test,\n",
        "  'Predictions':y_preds,\n",
        "  'Correct':0\n",
        "}\n",
        "results = pd.DataFrame(dict_df)\n",
        "results.head()\n"
      ],
      "metadata": {
        "id": "xQJG6wVIHwIS"
      },
      "execution_count": null,
      "outputs": []
    },
    {
      "cell_type": "code",
      "source": [
        "FP = results[(results.Actual==0) & (results.Predictions==1)].shape[0]\n",
        "FN = results[(results.Actual==1) & (results.Predictions==0)].shape[0]\n",
        "TP = results[(results.Actual==1) & (results.Predictions==1)].shape[0]\n",
        "TN = results[(results.Actual==0) & (results.Predictions==0)].shape[0]"
      ],
      "metadata": {
        "id": "6u_r99MyHsBO"
      },
      "execution_count": null,
      "outputs": []
    },
    {
      "cell_type": "code",
      "source": [
        "precision = TP/(TP+FN)\n",
        "recall = TP/(TP+FP)\n",
        "print(f'recall is {precision}')\n",
        "print(f'precision is {recall}')"
      ],
      "metadata": {
        "id": "U2ck69tqH0rz"
      },
      "execution_count": null,
      "outputs": []
    },
    {
      "cell_type": "code",
      "source": [
        "from sklearn.metrics import roc_curve\n",
        "# get false positive rates, true positive rates, for various thresholds\n",
        "fpr, tpr, thresholds = roc_curve(y_test, y_preds)"
      ],
      "metadata": {
        "id": "x2nzImWzH2No"
      },
      "execution_count": null,
      "outputs": []
    },
    {
      "cell_type": "code",
      "source": [
        "sns.set_style('whitegrid')\n",
        "fig = plt.figure(figsize=(8,6))\n",
        "plt.plot(fpr, tpr, linewidth=2)\n",
        "plt.plot([0,1],[0,1],'b:',label=['Random','Logistic Regression'])\n",
        "plt.xlabel('False Positive Rate')\n",
        "plt.ylabel('True Positive Rate')\n",
        "plt.legend()\n",
        "plt.show()"
      ],
      "metadata": {
        "id": "UDFjhJL1H5WZ"
      },
      "execution_count": null,
      "outputs": []
    },
    {
      "cell_type": "code",
      "source": [
        "import scikitplot as skplt\n",
        "\n",
        "y_probas = ml_reg.predict_proba(X_test_s)\n",
        "fig = skplt.metrics.plot_roc(y_test, y_probas)\n",
        "plt.show()\n"
      ],
      "metadata": {
        "id": "X5ETNR5kH74p"
      },
      "execution_count": null,
      "outputs": []
    },
    {
      "cell_type": "code",
      "source": [
        "from sklearn.linear_model import LogisticRegression\n",
        "from sklearn.tree import DecisionTreeClassifier\n",
        "from sklearn.ensemble import RandomForestClassifier\n",
        "from sklearn.metrics import roc_curve, roc_auc_score\n",
        "# Instantiate the classfiers and make a list\n",
        "# notice the parameters for each classifie\n",
        "classifiers =[LogisticRegression(solver='lbfgs',max_iter=4000,class_weight='balanced'),\n",
        "      DecisionTreeClassifier(random_state=15),\n",
        "      RandomForestClassifier(n_estimators=500,random_state=15)\n",
        "      ]\n"
      ],
      "metadata": {
        "id": "JoQBfGcLH--V"
      },
      "execution_count": null,
      "outputs": []
    },
    {
      "cell_type": "code",
      "source": [
        "results = pd.DataFrame(columns=['classifiers', 'fpr','tpr','auc'])\n",
        "# Train the models and store the results\n",
        "for cls in classifiers:\n",
        "  # fit the data\n",
        "  model = cls.fit(X_train_s, y_train)\n",
        "  # get predictions as probabilities\n",
        "  # notice that predict_proba returns array (n_samples, n_classes)\n",
        "  yproba = model.predict_proba(X_test_s)[::,1]\n",
        "  fpr, tpr, thres = roc_curve(y_test, yproba)\n",
        "  # get the auc (area under the curve)\n",
        "  auc = roc_auc_score(y_test, yproba)\n",
        "  # add results to the table\n",
        "  results = results.append({'classifiers':cls.__class__.__name__,\n",
        "                    'fpr':fpr,\n",
        "                    'tpr':tpr,\n",
        "                    'auc':auc}, ignore_index=True)\n",
        "# Set name of the classifiers as index labels\n",
        "results.set_index('classifiers', inplace=True)"
      ],
      "metadata": {
        "id": "aGYuap_1IJWO"
      },
      "execution_count": null,
      "outputs": []
    },
    {
      "cell_type": "code",
      "source": [
        "fig = plt.figure(figsize=(8,6))\n",
        "for i in results.index:\n",
        "    plt.plot(results.loc[i]['fpr'],\n",
        "          results.loc[i]['tpr'],\n",
        "          label=\"{}, AUC={:.3f}\".format(i, results.loc[i]['auc']))\n",
        "# plot the random model (diagonal)\n",
        "plt.plot([0,1], [0,1], color='orange', linestyle='--')\n",
        "plt.xticks(np.arange(0.0, 1.1, step=0.1))\n",
        "plt.xlabel(\"Flase Positive Rate\", fontsize=15)\n",
        "plt.yticks(np.arange(0.0, 1.1, step=0.1))\n",
        "plt.ylabel(\"True Positive Rate\", fontsize=15)\n",
        "plt.title('ROC Curve Analysis', fontsize=12)\n",
        "plt.legend(prop={'size':13}, loc='lower right')\n",
        "plt.show()\n"
      ],
      "metadata": {
        "id": "3hZli_AvIYvB"
      },
      "execution_count": null,
      "outputs": []
    },
    {
      "cell_type": "code",
      "source": [
        "import pandas as pd\n",
        "import numpy as np\n",
        "import matplotlib.pyplot as plt\n",
        "from numpy import mean\n",
        "from numpy import std\n",
        "from numpy import absolute\n",
        "from pandas import read_csv\n",
        "from sklearn.model_selection import cross_val_score\n",
        "from sklearn.model_selection import KFold\n",
        "from sklearn.compose import ColumnTransformer\n",
        "from sklearn.pipeline import Pipeline\n",
        "from sklearn.model_selection import train_test_split\n",
        "from sklearn.preprocessing import OneHotEncoder\n",
        "from sklearn.preprocessing import MinMaxScaler\n",
        "from sklearn.model_selection import GridSearchCV\n",
        "from sklearn.metrics import roc_curve\n",
        "from sklearn.metrics import roc_auc_score\n"
      ],
      "metadata": {
        "id": "YFV94u-FIhvB"
      },
      "execution_count": null,
      "outputs": []
    },
    {
      "cell_type": "code",
      "source": [
        "df = pd.read_csv('../content/bank-full.csv',sep=';')"
      ],
      "metadata": {
        "id": "xPInW-vBImE0"
      },
      "execution_count": null,
      "outputs": []
    },
    {
      "cell_type": "code",
      "source": [
        "X = df.iloc[:,:(df.shape[1]-1)]\n",
        "y = df['y']"
      ],
      "metadata": {
        "id": "pDaIMz-GIniF"
      },
      "execution_count": null,
      "outputs": []
    },
    {
      "cell_type": "code",
      "source": [
        "X_train, X_test, y_train, y_test = train_test_split(X,y, test_size=20,random_state=15)\n",
        "# lets check the shapes of train/test sets\n",
        "print(X_train.shape, X_test.shape)"
      ],
      "metadata": {
        "id": "EVo7b5VSIpS5"
      },
      "execution_count": null,
      "outputs": []
    },
    {
      "cell_type": "code",
      "source": [
        "num_vars = X_train.select_dtypes(include=['int64', 'float64']).columns\n",
        "cat_vars = X_train.select_dtypes(include=['object', 'bool']).columns\n",
        "print('Numerical Vars are ',num_vars)\n",
        "print('Categorical vars are ',cat_vars)"
      ],
      "metadata": {
        "id": "c88p52NVIsno"
      },
      "execution_count": null,
      "outputs": []
    },
    {
      "cell_type": "code",
      "source": [
        "pre_process = [('cat', OneHotEncoder(), cat_vars), ('num', MinMaxScaler(),num_vars)]\n",
        "# use ColumnTransformer to apply the above pre-processing to the desired columns\n",
        "cols_transform = ColumnTransformer(transformers=pre_process)\n"
      ],
      "metadata": {
        "id": "8U6lenZoIvSx"
      },
      "execution_count": null,
      "outputs": []
    },
    {
      "cell_type": "code",
      "source": [
        "from sklearn.ensemble import RandomForestClassifier\n",
        "model = RandomForestClassifier(random_state=15,\n",
        "        n_estimators=500,\n",
        "        max_features='sqrt',\n",
        ")"
      ],
      "metadata": {
        "id": "DphET3vnIzZM"
      },
      "execution_count": null,
      "outputs": []
    },
    {
      "cell_type": "code",
      "source": [
        "rf_pipeline = Pipeline(steps=[('prep',cols_transform), ('m', model)])\n"
      ],
      "metadata": {
        "id": "tJsxT7n1I4VM"
      },
      "execution_count": null,
      "outputs": []
    },
    {
      "cell_type": "code",
      "source": [
        "y_train.replace('no',0,inplace=True)\n",
        "y_train.replace('yes',1,inplace=True)\n",
        "y_test.replace('no',0,inplace=True)\n",
        "y_test.replace('yes',1,inplace=True)"
      ],
      "metadata": {
        "id": "gYDgGCrTI6JC"
      },
      "execution_count": null,
      "outputs": []
    },
    {
      "cell_type": "code",
      "source": [
        "rf_train = rf_pipeline.fit(X_train,y_train)"
      ],
      "metadata": {
        "id": "p-KSrvltI78f"
      },
      "execution_count": null,
      "outputs": []
    },
    {
      "cell_type": "code",
      "source": [
        "predictions = rf_pipeline.predict(X_test)\n",
        "np.mean(predictions==y_test)"
      ],
      "metadata": {
        "id": "uCDzusz8I9fn"
      },
      "execution_count": null,
      "outputs": []
    },
    {
      "cell_type": "code",
      "source": [
        "probs = rf_pipeline.predict_proba(X_test)\n",
        "# probs of positive classes only\n",
        "probs = probs[:, 1]\n",
        "# compute auc score\n",
        "auc = roc_auc_score(y_test, probs)\n",
        "print('AUC: %.2f' % auc)\n"
      ],
      "metadata": {
        "id": "UOQHYXRoI_Jn"
      },
      "execution_count": null,
      "outputs": []
    },
    {
      "cell_type": "code",
      "source": [
        "type(rf_pipeline)"
      ],
      "metadata": {
        "id": "vLcvTBjKJA5c"
      },
      "execution_count": null,
      "outputs": []
    },
    {
      "cell_type": "code",
      "source": [
        "def plot_roc_curve(fpr, tpr):\n",
        "  plt.plot(fpr, tpr, color='blue', label='ROC')\n",
        "  plt.plot([0, 1], [0, 1], color='red', linestyle='--')\n",
        "  plt.xlabel('False Positive Rate')\n",
        "  plt.ylabel('True Positive Rate')\n",
        "  plt.title('ROC Curve')\n",
        "  plt.legend()\n",
        "  plt.show()"
      ],
      "metadata": {
        "id": "zX75_SJ8JC3V"
      },
      "execution_count": null,
      "outputs": []
    },
    {
      "cell_type": "code",
      "source": [
        "fpr, tpr, thresholds = roc_curve(y_test, probs)\n",
        "plot_roc_curve(fpr, tpr)"
      ],
      "metadata": {
        "id": "usaZ2D6DJJSQ"
      },
      "execution_count": null,
      "outputs": []
    }
  ]
}